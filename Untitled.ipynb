{
 "cells": [
  {
   "cell_type": "code",
   "execution_count": 1,
   "metadata": {},
   "outputs": [],
   "source": [
    "import pandas as pd"
   ]
  },
  {
   "cell_type": "code",
   "execution_count": 14,
   "metadata": {},
   "outputs": [],
   "source": [
    "df = pd.read_csv('pilot_abstract.csv', encoding = 'unicode_escape')"
   ]
  },
  {
   "cell_type": "code",
   "execution_count": 17,
   "metadata": {},
   "outputs": [],
   "source": [
    "df = pd.read_csv('pilot_abstract.csv', encoding = 'ISO-8859-1')"
   ]
  },
  {
   "cell_type": "code",
   "execution_count": 18,
   "metadata": {},
   "outputs": [
    {
     "data": {
      "text/html": [
       "<div>\n",
       "<style scoped>\n",
       "    .dataframe tbody tr th:only-of-type {\n",
       "        vertical-align: middle;\n",
       "    }\n",
       "\n",
       "    .dataframe tbody tr th {\n",
       "        vertical-align: top;\n",
       "    }\n",
       "\n",
       "    .dataframe thead th {\n",
       "        text-align: right;\n",
       "    }\n",
       "</style>\n",
       "<table border=\"1\" class=\"dataframe\">\n",
       "  <thead>\n",
       "    <tr style=\"text-align: right;\">\n",
       "      <th></th>\n",
       "      <th>Title</th>\n",
       "      <th>Author</th>\n",
       "      <th>Journal</th>\n",
       "      <th>Year</th>\n",
       "      <th>ABSTRACT</th>\n",
       "      <th>Citation_GS</th>\n",
       "    </tr>\n",
       "  </thead>\n",
       "  <tbody>\n",
       "    <tr>\n",
       "      <th>0</th>\n",
       "      <td>Does Algorithmic Trading Improve Liquidity?</td>\n",
       "      <td>TERRENCE HENDERSHOTT, CHARLES M. JONES, and AL...</td>\n",
       "      <td>THE JOURNAL OF FINANCE</td>\n",
       "      <td>2011</td>\n",
       "      <td>Algorithmic trading (AT) has increased sharply...</td>\n",
       "      <td>1281</td>\n",
       "    </tr>\n",
       "    <tr>\n",
       "      <th>1</th>\n",
       "      <td>Algorithmic Trading and Information</td>\n",
       "      <td>Terrence Hendershott</td>\n",
       "      <td>Manuscript, University of California, Berkeley</td>\n",
       "      <td>2011</td>\n",
       "      <td>We examine algorithmic trades (AT) and their r...</td>\n",
       "      <td>256</td>\n",
       "    </tr>\n",
       "    <tr>\n",
       "      <th>2</th>\n",
       "      <td>The Cost of Algorithmic Trading: A First Look ...</td>\n",
       "      <td>Ian Domowitz  and Henry Yegerman</td>\n",
       "      <td>Algorithmic Trading: Precision, Control, Execu...</td>\n",
       "      <td>2005</td>\n",
       "      <td>The goal of advanced trade execution services ...</td>\n",
       "      <td>82</td>\n",
       "    </tr>\n",
       "    <tr>\n",
       "      <th>3</th>\n",
       "      <td>Rise of the Machines: Algorithmic Trading in t...</td>\n",
       "      <td>ALAIN P. CHABOUD  BENJAMIN CHIQUOINE  ERIK HJA...</td>\n",
       "      <td>THE JOURNAL OF FINANCE</td>\n",
       "      <td>2014</td>\n",
       "      <td>We study the impact of algorithmic trading (AT...</td>\n",
       "      <td>520</td>\n",
       "    </tr>\n",
       "    <tr>\n",
       "      <th>4</th>\n",
       "      <td>Algorithmic Trading and the Market for Liquidity</td>\n",
       "      <td>Terrence Hendershott  and Ryan Riordan</td>\n",
       "      <td>Journal of Financial and Quantitative Analysis</td>\n",
       "      <td>2013</td>\n",
       "      <td>We examine the role of algorithmic traders (AT...</td>\n",
       "      <td>256</td>\n",
       "    </tr>\n",
       "    <tr>\n",
       "      <th>5</th>\n",
       "      <td>INTERNATIONAL EVIDENCE ON ALGORITHMIC TRADING</td>\n",
       "      <td>Ekkehart Boehmer, Kingsley Fong, Julie Wu</td>\n",
       "      <td>AFA 2013 San Diego Meetings Paper</td>\n",
       "      <td>2012</td>\n",
       "      <td>We use a large sample from 2001  2009 that in...</td>\n",
       "      <td>239</td>\n",
       "    </tr>\n",
       "    <tr>\n",
       "      <th>6</th>\n",
       "      <td>Moore's Law versus Murphy's Law: Algorithmic T...</td>\n",
       "      <td>Andrei A. Kirilenko, Andrew W. Lo</td>\n",
       "      <td>Journal of Economic Perspectives</td>\n",
       "      <td>2013</td>\n",
       "      <td>Financial markets have undergone a remarkable ...</td>\n",
       "      <td>137</td>\n",
       "    </tr>\n",
       "    <tr>\n",
       "      <th>7</th>\n",
       "      <td>High-frequency trading  : Better than its repu...</td>\n",
       "      <td>Michael Chlistalla</td>\n",
       "      <td>Deutsche Bank Research</td>\n",
       "      <td>2011</td>\n",
       "      <td>Over the past years, high-frequency trading h...</td>\n",
       "      <td>98</td>\n",
       "    </tr>\n",
       "    <tr>\n",
       "      <th>8</th>\n",
       "      <td>Algorithmic Trading</td>\n",
       "      <td>Giuseppe Nuti ; Mahnoosh Mirghaemi ; Philip Tr...</td>\n",
       "      <td>Computer (IEEE XPLORE)</td>\n",
       "      <td>2011</td>\n",
       "      <td>In electronic financial markets, algorithmic t...</td>\n",
       "      <td>62</td>\n",
       "    </tr>\n",
       "  </tbody>\n",
       "</table>\n",
       "</div>"
      ],
      "text/plain": [
       "                                               Title  \\\n",
       "0        Does Algorithmic Trading Improve Liquidity?   \n",
       "1                Algorithmic Trading and Information   \n",
       "2  The Cost of Algorithmic Trading: A First Look ...   \n",
       "3  Rise of the Machines: Algorithmic Trading in t...   \n",
       "4   Algorithmic Trading and the Market for Liquidity   \n",
       "5      INTERNATIONAL EVIDENCE ON ALGORITHMIC TRADING   \n",
       "6  Moore's Law versus Murphy's Law: Algorithmic T...   \n",
       "7  High-frequency trading  : Better than its repu...   \n",
       "8                                Algorithmic Trading   \n",
       "\n",
       "                                              Author  \\\n",
       "0  TERRENCE HENDERSHOTT, CHARLES M. JONES, and AL...   \n",
       "1                               Terrence Hendershott   \n",
       "2                   Ian Domowitz  and Henry Yegerman   \n",
       "3  ALAIN P. CHABOUD  BENJAMIN CHIQUOINE  ERIK HJA...   \n",
       "4             Terrence Hendershott  and Ryan Riordan   \n",
       "5          Ekkehart Boehmer, Kingsley Fong, Julie Wu   \n",
       "6                  Andrei A. Kirilenko, Andrew W. Lo   \n",
       "7                                 Michael Chlistalla   \n",
       "8  Giuseppe Nuti ; Mahnoosh Mirghaemi ; Philip Tr...   \n",
       "\n",
       "                                             Journal  Year  \\\n",
       "0                             THE JOURNAL OF FINANCE  2011   \n",
       "1     Manuscript, University of California, Berkeley  2011   \n",
       "2  Algorithmic Trading: Precision, Control, Execu...  2005   \n",
       "3                             THE JOURNAL OF FINANCE  2014   \n",
       "4     Journal of Financial and Quantitative Analysis  2013   \n",
       "5                  AFA 2013 San Diego Meetings Paper  2012   \n",
       "6                   Journal of Economic Perspectives  2013   \n",
       "7                             Deutsche Bank Research  2011   \n",
       "8                             Computer (IEEE XPLORE)  2011   \n",
       "\n",
       "                                            ABSTRACT  Citation_GS  \n",
       "0  Algorithmic trading (AT) has increased sharply...         1281  \n",
       "1  We examine algorithmic trades (AT) and their r...          256  \n",
       "2  The goal of advanced trade execution services ...           82  \n",
       "3  We study the impact of algorithmic trading (AT...          520  \n",
       "4  We examine the role of algorithmic traders (AT...          256  \n",
       "5  We use a large sample from 2001  2009 that in...          239  \n",
       "6  Financial markets have undergone a remarkable ...          137  \n",
       "7   Over the past years, high-frequency trading h...           98  \n",
       "8  In electronic financial markets, algorithmic t...           62  "
      ]
     },
     "execution_count": 18,
     "metadata": {},
     "output_type": "execute_result"
    }
   ],
   "source": [
    "df"
   ]
  },
  {
   "cell_type": "code",
   "execution_count": 19,
   "metadata": {},
   "outputs": [],
   "source": [
    "def preprocess(ReviewText):\n",
    "    ReviewText = ReviewText.str.replace(\"(<br/>)\", \"\")\n",
    "    ReviewText = ReviewText.str.replace('(<a).*(>).*(</a>)', '')\n",
    "    ReviewText = ReviewText.str.replace('(&amp)', '')\n",
    "    ReviewText = ReviewText.str.replace('(&gt)', '')\n",
    "    ReviewText = ReviewText.str.replace('(&lt)', '')\n",
    "    ReviewText = ReviewText.str.replace('(\\xa0)', ' ')  \n",
    "    return ReviewText"
   ]
  },
  {
   "cell_type": "code",
   "execution_count": 21,
   "metadata": {},
   "outputs": [
    {
     "data": {
      "text/html": [
       "<div>\n",
       "<style scoped>\n",
       "    .dataframe tbody tr th:only-of-type {\n",
       "        vertical-align: middle;\n",
       "    }\n",
       "\n",
       "    .dataframe tbody tr th {\n",
       "        vertical-align: top;\n",
       "    }\n",
       "\n",
       "    .dataframe thead th {\n",
       "        text-align: right;\n",
       "    }\n",
       "</style>\n",
       "<table border=\"1\" class=\"dataframe\">\n",
       "  <thead>\n",
       "    <tr style=\"text-align: right;\">\n",
       "      <th></th>\n",
       "      <th>Title</th>\n",
       "      <th>Author</th>\n",
       "      <th>Journal</th>\n",
       "      <th>Year</th>\n",
       "      <th>ABSTRACT</th>\n",
       "      <th>Citation_GS</th>\n",
       "    </tr>\n",
       "  </thead>\n",
       "  <tbody>\n",
       "    <tr>\n",
       "      <th>0</th>\n",
       "      <td>Does Algorithmic Trading Improve Liquidity?</td>\n",
       "      <td>TERRENCE HENDERSHOTT, CHARLES M. JONES, and AL...</td>\n",
       "      <td>THE JOURNAL OF FINANCE</td>\n",
       "      <td>2011</td>\n",
       "      <td>Algorithmic trading (AT) has increased sharply...</td>\n",
       "      <td>1281</td>\n",
       "    </tr>\n",
       "    <tr>\n",
       "      <th>1</th>\n",
       "      <td>Algorithmic Trading and Information</td>\n",
       "      <td>Terrence Hendershott</td>\n",
       "      <td>Manuscript, University of California, Berkeley</td>\n",
       "      <td>2011</td>\n",
       "      <td>We examine algorithmic trades (AT) and their r...</td>\n",
       "      <td>256</td>\n",
       "    </tr>\n",
       "    <tr>\n",
       "      <th>2</th>\n",
       "      <td>The Cost of Algorithmic Trading: A First Look ...</td>\n",
       "      <td>Ian Domowitz  and Henry Yegerman</td>\n",
       "      <td>Algorithmic Trading: Precision, Control, Execu...</td>\n",
       "      <td>2005</td>\n",
       "      <td>The goal of advanced trade execution services ...</td>\n",
       "      <td>82</td>\n",
       "    </tr>\n",
       "    <tr>\n",
       "      <th>3</th>\n",
       "      <td>Rise of the Machines: Algorithmic Trading in t...</td>\n",
       "      <td>ALAIN P. CHABOUD  BENJAMIN CHIQUOINE  ERIK HJA...</td>\n",
       "      <td>THE JOURNAL OF FINANCE</td>\n",
       "      <td>2014</td>\n",
       "      <td>We study the impact of algorithmic trading (AT...</td>\n",
       "      <td>520</td>\n",
       "    </tr>\n",
       "    <tr>\n",
       "      <th>4</th>\n",
       "      <td>Algorithmic Trading and the Market for Liquidity</td>\n",
       "      <td>Terrence Hendershott  and Ryan Riordan</td>\n",
       "      <td>Journal of Financial and Quantitative Analysis</td>\n",
       "      <td>2013</td>\n",
       "      <td>We examine the role of algorithmic traders (AT...</td>\n",
       "      <td>256</td>\n",
       "    </tr>\n",
       "    <tr>\n",
       "      <th>5</th>\n",
       "      <td>INTERNATIONAL EVIDENCE ON ALGORITHMIC TRADING</td>\n",
       "      <td>Ekkehart Boehmer, Kingsley Fong, Julie Wu</td>\n",
       "      <td>AFA 2013 San Diego Meetings Paper</td>\n",
       "      <td>2012</td>\n",
       "      <td>We use a large sample from 2001  2009 that in...</td>\n",
       "      <td>239</td>\n",
       "    </tr>\n",
       "    <tr>\n",
       "      <th>6</th>\n",
       "      <td>Moore's Law versus Murphy's Law: Algorithmic T...</td>\n",
       "      <td>Andrei A. Kirilenko, Andrew W. Lo</td>\n",
       "      <td>Journal of Economic Perspectives</td>\n",
       "      <td>2013</td>\n",
       "      <td>Financial markets have undergone a remarkable ...</td>\n",
       "      <td>137</td>\n",
       "    </tr>\n",
       "    <tr>\n",
       "      <th>7</th>\n",
       "      <td>High-frequency trading  : Better than its repu...</td>\n",
       "      <td>Michael Chlistalla</td>\n",
       "      <td>Deutsche Bank Research</td>\n",
       "      <td>2011</td>\n",
       "      <td>Over the past years, high-frequency trading h...</td>\n",
       "      <td>98</td>\n",
       "    </tr>\n",
       "    <tr>\n",
       "      <th>8</th>\n",
       "      <td>Algorithmic Trading</td>\n",
       "      <td>Giuseppe Nuti ; Mahnoosh Mirghaemi ; Philip Tr...</td>\n",
       "      <td>Computer (IEEE XPLORE)</td>\n",
       "      <td>2011</td>\n",
       "      <td>In electronic financial markets, algorithmic t...</td>\n",
       "      <td>62</td>\n",
       "    </tr>\n",
       "  </tbody>\n",
       "</table>\n",
       "</div>"
      ],
      "text/plain": [
       "                                               Title  \\\n",
       "0        Does Algorithmic Trading Improve Liquidity?   \n",
       "1                Algorithmic Trading and Information   \n",
       "2  The Cost of Algorithmic Trading: A First Look ...   \n",
       "3  Rise of the Machines: Algorithmic Trading in t...   \n",
       "4   Algorithmic Trading and the Market for Liquidity   \n",
       "5      INTERNATIONAL EVIDENCE ON ALGORITHMIC TRADING   \n",
       "6  Moore's Law versus Murphy's Law: Algorithmic T...   \n",
       "7  High-frequency trading  : Better than its repu...   \n",
       "8                                Algorithmic Trading   \n",
       "\n",
       "                                              Author  \\\n",
       "0  TERRENCE HENDERSHOTT, CHARLES M. JONES, and AL...   \n",
       "1                               Terrence Hendershott   \n",
       "2                   Ian Domowitz  and Henry Yegerman   \n",
       "3  ALAIN P. CHABOUD  BENJAMIN CHIQUOINE  ERIK HJA...   \n",
       "4             Terrence Hendershott  and Ryan Riordan   \n",
       "5          Ekkehart Boehmer, Kingsley Fong, Julie Wu   \n",
       "6                  Andrei A. Kirilenko, Andrew W. Lo   \n",
       "7                                 Michael Chlistalla   \n",
       "8  Giuseppe Nuti ; Mahnoosh Mirghaemi ; Philip Tr...   \n",
       "\n",
       "                                             Journal  Year  \\\n",
       "0                             THE JOURNAL OF FINANCE  2011   \n",
       "1     Manuscript, University of California, Berkeley  2011   \n",
       "2  Algorithmic Trading: Precision, Control, Execu...  2005   \n",
       "3                             THE JOURNAL OF FINANCE  2014   \n",
       "4     Journal of Financial and Quantitative Analysis  2013   \n",
       "5                  AFA 2013 San Diego Meetings Paper  2012   \n",
       "6                   Journal of Economic Perspectives  2013   \n",
       "7                             Deutsche Bank Research  2011   \n",
       "8                             Computer (IEEE XPLORE)  2011   \n",
       "\n",
       "                                            ABSTRACT  Citation_GS  \n",
       "0  Algorithmic trading (AT) has increased sharply...         1281  \n",
       "1  We examine algorithmic trades (AT) and their r...          256  \n",
       "2  The goal of advanced trade execution services ...           82  \n",
       "3  We study the impact of algorithmic trading (AT...          520  \n",
       "4  We examine the role of algorithmic traders (AT...          256  \n",
       "5  We use a large sample from 2001  2009 that in...          239  \n",
       "6  Financial markets have undergone a remarkable ...          137  \n",
       "7   Over the past years, high-frequency trading h...           98  \n",
       "8  In electronic financial markets, algorithmic t...           62  "
      ]
     },
     "execution_count": 21,
     "metadata": {},
     "output_type": "execute_result"
    }
   ],
   "source": [
    "df['ABSTRACT'] = preprocess(df['ABSTRACT'])\n",
    "df"
   ]
  },
  {
   "cell_type": "code",
   "execution_count": 26,
   "metadata": {},
   "outputs": [],
   "source": [
    "#!pip install textblob\n",
    "from textblob import TextBlob"
   ]
  },
  {
   "cell_type": "code",
   "execution_count": 27,
   "metadata": {},
   "outputs": [],
   "source": [
    "df['polarity'] = df['ABSTRACT'].map(lambda text: TextBlob(text).sentiment.polarity)\n",
    "df['review_len'] = df['ABSTRACT'].astype(str).apply(len)\n",
    "df['word_count'] = df['ABSTRACT'].apply(lambda x: len(str(x).split()))"
   ]
  },
  {
   "cell_type": "code",
   "execution_count": 28,
   "metadata": {},
   "outputs": [
    {
     "data": {
      "text/html": [
       "<div>\n",
       "<style scoped>\n",
       "    .dataframe tbody tr th:only-of-type {\n",
       "        vertical-align: middle;\n",
       "    }\n",
       "\n",
       "    .dataframe tbody tr th {\n",
       "        vertical-align: top;\n",
       "    }\n",
       "\n",
       "    .dataframe thead th {\n",
       "        text-align: right;\n",
       "    }\n",
       "</style>\n",
       "<table border=\"1\" class=\"dataframe\">\n",
       "  <thead>\n",
       "    <tr style=\"text-align: right;\">\n",
       "      <th></th>\n",
       "      <th>Title</th>\n",
       "      <th>Author</th>\n",
       "      <th>Journal</th>\n",
       "      <th>Year</th>\n",
       "      <th>ABSTRACT</th>\n",
       "      <th>Citation_GS</th>\n",
       "      <th>polarity</th>\n",
       "      <th>review_len</th>\n",
       "      <th>word_count</th>\n",
       "    </tr>\n",
       "  </thead>\n",
       "  <tbody>\n",
       "    <tr>\n",
       "      <th>0</th>\n",
       "      <td>Does Algorithmic Trading Improve Liquidity?</td>\n",
       "      <td>TERRENCE HENDERSHOTT, CHARLES M. JONES, and AL...</td>\n",
       "      <td>THE JOURNAL OF FINANCE</td>\n",
       "      <td>2011</td>\n",
       "      <td>Algorithmic trading (AT) has increased sharply...</td>\n",
       "      <td>1281</td>\n",
       "      <td>0.065386</td>\n",
       "      <td>596</td>\n",
       "      <td>91</td>\n",
       "    </tr>\n",
       "    <tr>\n",
       "      <th>1</th>\n",
       "      <td>Algorithmic Trading and Information</td>\n",
       "      <td>Terrence Hendershott</td>\n",
       "      <td>Manuscript, University of California, Berkeley</td>\n",
       "      <td>2011</td>\n",
       "      <td>We examine algorithmic trades (AT) and their r...</td>\n",
       "      <td>256</td>\n",
       "      <td>0.225000</td>\n",
       "      <td>569</td>\n",
       "      <td>94</td>\n",
       "    </tr>\n",
       "    <tr>\n",
       "      <th>2</th>\n",
       "      <td>The Cost of Algorithmic Trading: A First Look ...</td>\n",
       "      <td>Ian Domowitz  and Henry Yegerman</td>\n",
       "      <td>Algorithmic Trading: Precision, Control, Execu...</td>\n",
       "      <td>2005</td>\n",
       "      <td>The goal of advanced trade execution services ...</td>\n",
       "      <td>82</td>\n",
       "      <td>0.020850</td>\n",
       "      <td>4806</td>\n",
       "      <td>724</td>\n",
       "    </tr>\n",
       "    <tr>\n",
       "      <th>3</th>\n",
       "      <td>Rise of the Machines: Algorithmic Trading in t...</td>\n",
       "      <td>ALAIN P. CHABOUD  BENJAMIN CHIQUOINE  ERIK HJA...</td>\n",
       "      <td>THE JOURNAL OF FINANCE</td>\n",
       "      <td>2014</td>\n",
       "      <td>We study the impact of algorithmic trading (AT...</td>\n",
       "      <td>520</td>\n",
       "      <td>0.118500</td>\n",
       "      <td>983</td>\n",
       "      <td>145</td>\n",
       "    </tr>\n",
       "    <tr>\n",
       "      <th>4</th>\n",
       "      <td>Algorithmic Trading and the Market for Liquidity</td>\n",
       "      <td>Terrence Hendershott  and Ryan Riordan</td>\n",
       "      <td>Journal of Financial and Quantitative Analysis</td>\n",
       "      <td>2013</td>\n",
       "      <td>We examine the role of algorithmic traders (AT...</td>\n",
       "      <td>256</td>\n",
       "      <td>0.077946</td>\n",
       "      <td>641</td>\n",
       "      <td>109</td>\n",
       "    </tr>\n",
       "    <tr>\n",
       "      <th>5</th>\n",
       "      <td>INTERNATIONAL EVIDENCE ON ALGORITHMIC TRADING</td>\n",
       "      <td>Ekkehart Boehmer, Kingsley Fong, Julie Wu</td>\n",
       "      <td>AFA 2013 San Diego Meetings Paper</td>\n",
       "      <td>2012</td>\n",
       "      <td>We use a large sample from 2001  2009 that in...</td>\n",
       "      <td>239</td>\n",
       "      <td>0.060145</td>\n",
       "      <td>1159</td>\n",
       "      <td>180</td>\n",
       "    </tr>\n",
       "    <tr>\n",
       "      <th>6</th>\n",
       "      <td>Moore's Law versus Murphy's Law: Algorithmic T...</td>\n",
       "      <td>Andrei A. Kirilenko, Andrew W. Lo</td>\n",
       "      <td>Journal of Economic Perspectives</td>\n",
       "      <td>2013</td>\n",
       "      <td>Financial markets have undergone a remarkable ...</td>\n",
       "      <td>137</td>\n",
       "      <td>0.148913</td>\n",
       "      <td>1018</td>\n",
       "      <td>139</td>\n",
       "    </tr>\n",
       "    <tr>\n",
       "      <th>7</th>\n",
       "      <td>High-frequency trading  : Better than its repu...</td>\n",
       "      <td>Michael Chlistalla</td>\n",
       "      <td>Deutsche Bank Research</td>\n",
       "      <td>2011</td>\n",
       "      <td>Over the past years, high-frequency trading h...</td>\n",
       "      <td>98</td>\n",
       "      <td>0.099534</td>\n",
       "      <td>1907</td>\n",
       "      <td>257</td>\n",
       "    </tr>\n",
       "    <tr>\n",
       "      <th>8</th>\n",
       "      <td>Algorithmic Trading</td>\n",
       "      <td>Giuseppe Nuti ; Mahnoosh Mirghaemi ; Philip Tr...</td>\n",
       "      <td>Computer (IEEE XPLORE)</td>\n",
       "      <td>2011</td>\n",
       "      <td>In electronic financial markets, algorithmic t...</td>\n",
       "      <td>62</td>\n",
       "      <td>0.275000</td>\n",
       "      <td>593</td>\n",
       "      <td>89</td>\n",
       "    </tr>\n",
       "  </tbody>\n",
       "</table>\n",
       "</div>"
      ],
      "text/plain": [
       "                                               Title  \\\n",
       "0        Does Algorithmic Trading Improve Liquidity?   \n",
       "1                Algorithmic Trading and Information   \n",
       "2  The Cost of Algorithmic Trading: A First Look ...   \n",
       "3  Rise of the Machines: Algorithmic Trading in t...   \n",
       "4   Algorithmic Trading and the Market for Liquidity   \n",
       "5      INTERNATIONAL EVIDENCE ON ALGORITHMIC TRADING   \n",
       "6  Moore's Law versus Murphy's Law: Algorithmic T...   \n",
       "7  High-frequency trading  : Better than its repu...   \n",
       "8                                Algorithmic Trading   \n",
       "\n",
       "                                              Author  \\\n",
       "0  TERRENCE HENDERSHOTT, CHARLES M. JONES, and AL...   \n",
       "1                               Terrence Hendershott   \n",
       "2                   Ian Domowitz  and Henry Yegerman   \n",
       "3  ALAIN P. CHABOUD  BENJAMIN CHIQUOINE  ERIK HJA...   \n",
       "4             Terrence Hendershott  and Ryan Riordan   \n",
       "5          Ekkehart Boehmer, Kingsley Fong, Julie Wu   \n",
       "6                  Andrei A. Kirilenko, Andrew W. Lo   \n",
       "7                                 Michael Chlistalla   \n",
       "8  Giuseppe Nuti ; Mahnoosh Mirghaemi ; Philip Tr...   \n",
       "\n",
       "                                             Journal  Year  \\\n",
       "0                             THE JOURNAL OF FINANCE  2011   \n",
       "1     Manuscript, University of California, Berkeley  2011   \n",
       "2  Algorithmic Trading: Precision, Control, Execu...  2005   \n",
       "3                             THE JOURNAL OF FINANCE  2014   \n",
       "4     Journal of Financial and Quantitative Analysis  2013   \n",
       "5                  AFA 2013 San Diego Meetings Paper  2012   \n",
       "6                   Journal of Economic Perspectives  2013   \n",
       "7                             Deutsche Bank Research  2011   \n",
       "8                             Computer (IEEE XPLORE)  2011   \n",
       "\n",
       "                                            ABSTRACT  Citation_GS  polarity  \\\n",
       "0  Algorithmic trading (AT) has increased sharply...         1281  0.065386   \n",
       "1  We examine algorithmic trades (AT) and their r...          256  0.225000   \n",
       "2  The goal of advanced trade execution services ...           82  0.020850   \n",
       "3  We study the impact of algorithmic trading (AT...          520  0.118500   \n",
       "4  We examine the role of algorithmic traders (AT...          256  0.077946   \n",
       "5  We use a large sample from 2001  2009 that in...          239  0.060145   \n",
       "6  Financial markets have undergone a remarkable ...          137  0.148913   \n",
       "7   Over the past years, high-frequency trading h...           98  0.099534   \n",
       "8  In electronic financial markets, algorithmic t...           62  0.275000   \n",
       "\n",
       "   review_len  word_count  \n",
       "0         596          91  \n",
       "1         569          94  \n",
       "2        4806         724  \n",
       "3         983         145  \n",
       "4         641         109  \n",
       "5        1159         180  \n",
       "6        1018         139  \n",
       "7        1907         257  \n",
       "8         593          89  "
      ]
     },
     "execution_count": 28,
     "metadata": {},
     "output_type": "execute_result"
    }
   ],
   "source": [
    "df"
   ]
  },
  {
   "cell_type": "code",
   "execution_count": 31,
   "metadata": {},
   "outputs": [
    {
     "name": "stdout",
     "output_type": "stream",
     "text": [
      "random review with the highest positive sentiment polarity: \n",
      "\n",
      "Financial markets have undergone a remarkable transformation over the past two decades due to advances in technology. These advances include faster and cheaper computers, greater connectivity among market participants, and perhaps most important of all, more sophisticated trading algorithms. The benefits of such financial technology are evident: lower transactions costs, faster executions, and greater volume of trades. However, like any technology, trading technology has unintended consequences. In this paper, we review key innovations in trading technology starting with portfolio optimization in the 1950s and ending with high-frequency trading in the late 2000s, as well as opportunities, challenges, and economic incentives that accompanied these developments. We also discuss potential threats to financial stability created or facilitated by algorithmic trading and propose \"Financial Regulation 2.0,\" a set of design principles for bringing the current financial regulatory framework into the Digital Age.\n",
      "We examine algorithmic trades (AT) and their role in the price discovery process in the 30\n",
      "DAX stocks on the Deutsche Boerse in January 2008. AT liquidity demand represents 52% of\n",
      "volume and AT supplies liquidity on 50% of volume. AT act strategically by monitoring the\n",
      "market for liquidity and deviations of price from fundamental value. AT consume liquidity when\n",
      "it is cheap and supply liquidity when it is expensive. AT contribute more to the efficient price\n",
      "by placing more efficient quotes and AT demanding liquidity to move the prices towards the\n",
      "efficient price.\n"
     ]
    }
   ],
   "source": [
    "print('random review with the highest positive sentiment polarity: \\n')\n",
    "cl = df.loc[df.polarity > 0.1, ['ABSTRACT']].sample(2).values\n",
    "for c in cl:\n",
    "    print(c[0])"
   ]
  },
  {
   "cell_type": "code",
   "execution_count": 42,
   "metadata": {},
   "outputs": [],
   "source": [
    "#import plotly.tools as tls\n",
    "#plotly.__version__\n",
    "#tls.embed('https://plot.ly/~cufflinks/8')"
   ]
  },
  {
   "cell_type": "code",
   "execution_count": 40,
   "metadata": {},
   "outputs": [
    {
     "name": "stdout",
     "output_type": "stream",
     "text": [
      "Collecting cufflinks\n",
      "  Downloading https://files.pythonhosted.org/packages/dd/c9/c6f3675387438929af73e1199c45a623205898bafeab5ccd713efe3b43c2/cufflinks-0.15.tar.gz (81kB)\n",
      "Requirement already satisfied: numpy>=1.9.2 in c:\\users\\iims bloomberg one\\appdata\\local\\continuum\\anaconda3\\lib\\site-packages (from cufflinks) (1.16.1)\n",
      "Requirement already satisfied: pandas>=0.19.2 in c:\\users\\iims bloomberg one\\appdata\\local\\continuum\\anaconda3\\lib\\site-packages (from cufflinks) (0.23.3)\n",
      "Requirement already satisfied: plotly>=3.0.0 in c:\\users\\iims bloomberg one\\appdata\\local\\continuum\\anaconda3\\lib\\site-packages (from cufflinks) (3.2.1)\n",
      "Requirement already satisfied: six>=1.9.0 in c:\\users\\iims bloomberg one\\appdata\\local\\continuum\\anaconda3\\lib\\site-packages (from cufflinks) (1.11.0)\n",
      "Collecting colorlover>=0.2.1 (from cufflinks)\n",
      "  Downloading https://files.pythonhosted.org/packages/9a/53/f696e4480b1d1de3b1523991dea71cf417c8b19fe70c704da164f3f90972/colorlover-0.3.0-py3-none-any.whl\n",
      "Requirement already satisfied: setuptools>=34.4.1 in c:\\users\\iims bloomberg one\\appdata\\local\\continuum\\anaconda3\\lib\\site-packages (from cufflinks) (39.1.0)\n",
      "Requirement already satisfied: ipython>=5.3.0 in c:\\users\\iims bloomberg one\\appdata\\local\\continuum\\anaconda3\\lib\\site-packages (from cufflinks) (6.4.0)\n",
      "Requirement already satisfied: ipywidgets>=7.0.0 in c:\\users\\iims bloomberg one\\appdata\\local\\continuum\\anaconda3\\lib\\site-packages (from cufflinks) (7.2.1)\n",
      "Requirement already satisfied: python-dateutil>=2.5.0 in c:\\users\\iims bloomberg one\\appdata\\local\\continuum\\anaconda3\\lib\\site-packages (from pandas>=0.19.2->cufflinks) (2.7.3)\n",
      "Requirement already satisfied: pytz>=2011k in c:\\users\\iims bloomberg one\\appdata\\local\\continuum\\anaconda3\\lib\\site-packages (from pandas>=0.19.2->cufflinks) (2018.5)\n",
      "Requirement already satisfied: requests in c:\\users\\iims bloomberg one\\appdata\\local\\continuum\\anaconda3\\lib\\site-packages (from plotly>=3.0.0->cufflinks) (2.19.1)\n",
      "Requirement already satisfied: nbformat>=4.2 in c:\\users\\iims bloomberg one\\appdata\\local\\continuum\\anaconda3\\lib\\site-packages (from plotly>=3.0.0->cufflinks) (4.4.0)\n",
      "Requirement already satisfied: retrying>=1.3.3 in c:\\users\\iims bloomberg one\\appdata\\local\\continuum\\anaconda3\\lib\\site-packages (from plotly>=3.0.0->cufflinks) (1.3.3)\n",
      "Requirement already satisfied: decorator>=4.0.6 in c:\\users\\iims bloomberg one\\appdata\\local\\continuum\\anaconda3\\lib\\site-packages (from plotly>=3.0.0->cufflinks) (4.3.0)\n",
      "Requirement already satisfied: colorama; sys_platform == \"win32\" in c:\\users\\iims bloomberg one\\appdata\\local\\continuum\\anaconda3\\lib\\site-packages (from ipython>=5.3.0->cufflinks) (0.3.9)\n",
      "Requirement already satisfied: traitlets>=4.2 in c:\\users\\iims bloomberg one\\appdata\\local\\continuum\\anaconda3\\lib\\site-packages (from ipython>=5.3.0->cufflinks) (4.3.2)\n",
      "Requirement already satisfied: simplegeneric>0.8 in c:\\users\\iims bloomberg one\\appdata\\local\\continuum\\anaconda3\\lib\\site-packages (from ipython>=5.3.0->cufflinks) (0.8.1)\n",
      "Requirement already satisfied: jedi>=0.10 in c:\\users\\iims bloomberg one\\appdata\\local\\continuum\\anaconda3\\lib\\site-packages (from ipython>=5.3.0->cufflinks) (0.12.0)\n",
      "Requirement already satisfied: pygments in c:\\users\\iims bloomberg one\\appdata\\local\\continuum\\anaconda3\\lib\\site-packages (from ipython>=5.3.0->cufflinks) (2.2.0)\n",
      "Requirement already satisfied: backcall in c:\\users\\iims bloomberg one\\appdata\\local\\continuum\\anaconda3\\lib\\site-packages (from ipython>=5.3.0->cufflinks) (0.1.0)\n",
      "Requirement already satisfied: pickleshare in c:\\users\\iims bloomberg one\\appdata\\local\\continuum\\anaconda3\\lib\\site-packages (from ipython>=5.3.0->cufflinks) (0.7.4)\n",
      "Requirement already satisfied: prompt-toolkit<2.0.0,>=1.0.15 in c:\\users\\iims bloomberg one\\appdata\\local\\continuum\\anaconda3\\lib\\site-packages (from ipython>=5.3.0->cufflinks) (1.0.15)\n",
      "Requirement already satisfied: ipykernel>=4.5.1 in c:\\users\\iims bloomberg one\\appdata\\local\\continuum\\anaconda3\\lib\\site-packages (from ipywidgets>=7.0.0->cufflinks) (4.8.2)\n",
      "Requirement already satisfied: widgetsnbextension~=3.2.0 in c:\\users\\iims bloomberg one\\appdata\\local\\continuum\\anaconda3\\lib\\site-packages (from ipywidgets>=7.0.0->cufflinks) (3.2.1)\n",
      "Requirement already satisfied: urllib3<1.24,>=1.21.1 in c:\\users\\iims bloomberg one\\appdata\\local\\continuum\\anaconda3\\lib\\site-packages (from requests->plotly>=3.0.0->cufflinks) (1.23)\n",
      "Requirement already satisfied: idna<2.8,>=2.5 in c:\\users\\iims bloomberg one\\appdata\\local\\continuum\\anaconda3\\lib\\site-packages (from requests->plotly>=3.0.0->cufflinks) (2.7)\n",
      "Requirement already satisfied: certifi>=2017.4.17 in c:\\users\\iims bloomberg one\\appdata\\local\\continuum\\anaconda3\\lib\\site-packages (from requests->plotly>=3.0.0->cufflinks) (2018.11.29)\n",
      "Requirement already satisfied: chardet<3.1.0,>=3.0.2 in c:\\users\\iims bloomberg one\\appdata\\local\\continuum\\anaconda3\\lib\\site-packages (from requests->plotly>=3.0.0->cufflinks) (3.0.4)\n",
      "Requirement already satisfied: ipython_genutils in c:\\users\\iims bloomberg one\\appdata\\local\\continuum\\anaconda3\\lib\\site-packages (from nbformat>=4.2->plotly>=3.0.0->cufflinks) (0.2.0)\n",
      "Requirement already satisfied: jsonschema!=2.5.0,>=2.4 in c:\\users\\iims bloomberg one\\appdata\\local\\continuum\\anaconda3\\lib\\site-packages (from nbformat>=4.2->plotly>=3.0.0->cufflinks) (2.6.0)\n",
      "Requirement already satisfied: jupyter_core in c:\\users\\iims bloomberg one\\appdata\\local\\continuum\\anaconda3\\lib\\site-packages (from nbformat>=4.2->plotly>=3.0.0->cufflinks) (4.4.0)\n",
      "Requirement already satisfied: parso>=0.2.0 in c:\\users\\iims bloomberg one\\appdata\\local\\continuum\\anaconda3\\lib\\site-packages (from jedi>=0.10->ipython>=5.3.0->cufflinks) (0.3.0)\n",
      "Requirement already satisfied: wcwidth in c:\\users\\iims bloomberg one\\appdata\\local\\continuum\\anaconda3\\lib\\site-packages (from prompt-toolkit<2.0.0,>=1.0.15->ipython>=5.3.0->cufflinks) (0.1.7)\n",
      "Requirement already satisfied: jupyter_client in c:\\users\\iims bloomberg one\\appdata\\local\\continuum\\anaconda3\\lib\\site-packages (from ipykernel>=4.5.1->ipywidgets>=7.0.0->cufflinks) (5.2.3)\n",
      "Requirement already satisfied: tornado>=4.0 in c:\\users\\iims bloomberg one\\appdata\\local\\continuum\\anaconda3\\lib\\site-packages (from ipykernel>=4.5.1->ipywidgets>=7.0.0->cufflinks) (5.0.2)\n",
      "Requirement already satisfied: notebook>=4.4.1 in c:\\users\\iims bloomberg one\\appdata\\local\\continuum\\anaconda3\\lib\\site-packages (from widgetsnbextension~=3.2.0->ipywidgets>=7.0.0->cufflinks) (5.6.0)\n",
      "Requirement already satisfied: pyzmq>=13 in c:\\users\\iims bloomberg one\\appdata\\local\\continuum\\anaconda3\\lib\\site-packages (from jupyter_client->ipykernel>=4.5.1->ipywidgets>=7.0.0->cufflinks) (17.0.0)\n",
      "Requirement already satisfied: prometheus-client in c:\\users\\iims bloomberg one\\appdata\\local\\continuum\\anaconda3\\lib\\site-packages (from notebook>=4.4.1->widgetsnbextension~=3.2.0->ipywidgets>=7.0.0->cufflinks) (0.2.0)\n",
      "Requirement already satisfied: Send2Trash in c:\\users\\iims bloomberg one\\appdata\\local\\continuum\\anaconda3\\lib\\site-packages (from notebook>=4.4.1->widgetsnbextension~=3.2.0->ipywidgets>=7.0.0->cufflinks) (1.5.0)\n",
      "Requirement already satisfied: jinja2 in c:\\users\\iims bloomberg one\\appdata\\local\\continuum\\anaconda3\\lib\\site-packages (from notebook>=4.4.1->widgetsnbextension~=3.2.0->ipywidgets>=7.0.0->cufflinks) (2.10)\n",
      "Requirement already satisfied: nbconvert in c:\\users\\iims bloomberg one\\appdata\\local\\continuum\\anaconda3\\lib\\site-packages (from notebook>=4.4.1->widgetsnbextension~=3.2.0->ipywidgets>=7.0.0->cufflinks) (5.3.1)\n",
      "Requirement already satisfied: terminado>=0.8.1 in c:\\users\\iims bloomberg one\\appdata\\local\\continuum\\anaconda3\\lib\\site-packages (from notebook>=4.4.1->widgetsnbextension~=3.2.0->ipywidgets>=7.0.0->cufflinks) (0.8.1)\n",
      "Requirement already satisfied: MarkupSafe>=0.23 in c:\\users\\iims bloomberg one\\appdata\\local\\continuum\\anaconda3\\lib\\site-packages (from jinja2->notebook>=4.4.1->widgetsnbextension~=3.2.0->ipywidgets>=7.0.0->cufflinks) (1.0)\n",
      "Requirement already satisfied: entrypoints>=0.2.2 in c:\\users\\iims bloomberg one\\appdata\\local\\continuum\\anaconda3\\lib\\site-packages (from nbconvert->notebook>=4.4.1->widgetsnbextension~=3.2.0->ipywidgets>=7.0.0->cufflinks) (0.2.3)\n",
      "Requirement already satisfied: pandocfilters>=1.4.1 in c:\\users\\iims bloomberg one\\appdata\\local\\continuum\\anaconda3\\lib\\site-packages (from nbconvert->notebook>=4.4.1->widgetsnbextension~=3.2.0->ipywidgets>=7.0.0->cufflinks) (1.4.2)\n",
      "Requirement already satisfied: mistune>=0.7.4 in c:\\users\\iims bloomberg one\\appdata\\local\\continuum\\anaconda3\\lib\\site-packages (from nbconvert->notebook>=4.4.1->widgetsnbextension~=3.2.0->ipywidgets>=7.0.0->cufflinks) (0.8.3)\n",
      "Requirement already satisfied: testpath in c:\\users\\iims bloomberg one\\appdata\\local\\continuum\\anaconda3\\lib\\site-packages (from nbconvert->notebook>=4.4.1->widgetsnbextension~=3.2.0->ipywidgets>=7.0.0->cufflinks) (0.3.1)\n",
      "Requirement already satisfied: bleach in c:\\users\\iims bloomberg one\\appdata\\local\\continuum\\anaconda3\\lib\\site-packages (from nbconvert->notebook>=4.4.1->widgetsnbextension~=3.2.0->ipywidgets>=7.0.0->cufflinks) (2.1.3)\n",
      "Requirement already satisfied: html5lib!=1.0b1,!=1.0b2,!=1.0b3,!=1.0b4,!=1.0b5,!=1.0b6,!=1.0b7,!=1.0b8,>=0.99999999pre in c:\\users\\iims bloomberg one\\appdata\\local\\continuum\\anaconda3\\lib\\site-packages (from bleach->nbconvert->notebook>=4.4.1->widgetsnbextension~=3.2.0->ipywidgets>=7.0.0->cufflinks) (1.0.1)\n",
      "Building wheels for collected packages: cufflinks\n",
      "  Running setup.py bdist_wheel for cufflinks: started\n",
      "  Running setup.py bdist_wheel for cufflinks: finished with status 'done'\n",
      "  Stored in directory: C:\\Users\\IIMS Bloomberg ONE\\AppData\\Local\\pip\\Cache\\wheels\\c7\\7f\\d3\\7d3146a1551614bf0b8eb631ac724d044dd341679e763b594b\n",
      "Successfully built cufflinks\n",
      "Installing collected packages: colorlover, cufflinks\n",
      "Successfully installed colorlover-0.3.0 cufflinks-0.15\n"
     ]
    },
    {
     "name": "stderr",
     "output_type": "stream",
     "text": [
      "No metadata found in c:\\users\\iims bloomberg one\\appdata\\local\\continuum\\anaconda3\\lib\\site-packages\n",
      "No metadata found in c:\\users\\iims bloomberg one\\appdata\\local\\continuum\\anaconda3\\lib\\site-packages\n",
      "No metadata found in c:\\users\\iims bloomberg one\\appdata\\local\\continuum\\anaconda3\\lib\\site-packages\n",
      "You are using pip version 18.1, however version 19.1.1 is available.\n",
      "You should consider upgrading via the 'python -m pip install --upgrade pip' command.\n"
     ]
    },
    {
     "data": {
      "text/html": [
       "<script>requirejs.config({paths: { 'plotly': ['https://cdn.plot.ly/plotly-latest.min']},});if(!window.Plotly) {{require(['plotly'],function(plotly) {window.Plotly=plotly;});}}</script>"
      ],
      "text/vnd.plotly.v1+html": [
       "<script>requirejs.config({paths: { 'plotly': ['https://cdn.plot.ly/plotly-latest.min']},});if(!window.Plotly) {{require(['plotly'],function(plotly) {window.Plotly=plotly;});}}</script>"
      ]
     },
     "metadata": {},
     "output_type": "display_data"
    }
   ],
   "source": [
    "!pip install cufflinks\n",
    "import cufflinks as cf\n",
    "cf.go_offline()\n",
    "cf.set_config_file(offline=False, world_readable=True)"
   ]
  },
  {
   "cell_type": "code",
   "execution_count": 41,
   "metadata": {},
   "outputs": [
    {
     "data": {
      "application/vnd.plotly.v1+json": {
       "data": [
        {
         "histfunc": "count",
         "histnorm": "",
         "marker": {
          "color": "rgba(255, 153, 51, 1.0)",
          "line": {
           "color": "#000000",
           "width": 1.3
          }
         },
         "name": "polarity",
         "nbinsx": 50,
         "opacity": 0.8,
         "orientation": "v",
         "type": "histogram",
         "uid": "d18c7436-8396-11e9-a411-186024a0f792",
         "x": [
          0.06538600288600288,
          0.225,
          0.02085043787629995,
          0.11850000000000001,
          0.07794612794612793,
          0.060144927536231886,
          0.14891304347826087,
          0.0995341614906832,
          0.275
         ]
        }
       ],
       "layout": {
        "barmode": "overlay",
        "legend": {
         "bgcolor": "#F5F6F9",
         "font": {
          "color": "#4D5663"
         }
        },
        "paper_bgcolor": "#F5F6F9",
        "plot_bgcolor": "#F5F6F9",
        "title": "Sentiment Polarity Distribution",
        "titlefont": {
         "color": "#4D5663"
        },
        "xaxis": {
         "gridcolor": "#E1E5ED",
         "linecolor": "black",
         "showgrid": true,
         "tickfont": {
          "color": "#4D5663"
         },
         "title": "polarity",
         "titlefont": {
          "color": "#4D5663"
         },
         "zerolinecolor": "#E1E5ED"
        },
        "yaxis": {
         "gridcolor": "#E1E5ED",
         "linecolor": "black",
         "showgrid": true,
         "tickfont": {
          "color": "#4D5663"
         },
         "title": "count",
         "titlefont": {
          "color": "#4D5663"
         },
         "zerolinecolor": "#E1E5ED"
        }
       }
      },
      "text/html": [
       "<div id=\"6f44daf5-65dd-4a28-b886-07ad7458f11a\" style=\"height: 525px; width: 100%;\" class=\"plotly-graph-div\"></div><script type=\"text/javascript\">require([\"plotly\"], function(Plotly) { window.PLOTLYENV=window.PLOTLYENV || {};window.PLOTLYENV.BASE_URL=\"https://plot.ly\";Plotly.newPlot(\"6f44daf5-65dd-4a28-b886-07ad7458f11a\", [{\"histfunc\": \"count\", \"histnorm\": \"\", \"marker\": {\"color\": \"rgba(255, 153, 51, 1.0)\", \"line\": {\"color\": \"#000000\", \"width\": 1.3}}, \"name\": \"polarity\", \"nbinsx\": 50, \"opacity\": 0.8, \"orientation\": \"v\", \"x\": [0.06538600288600288, 0.225, 0.02085043787629995, 0.11850000000000001, 0.07794612794612793, 0.060144927536231886, 0.14891304347826087, 0.0995341614906832, 0.275], \"type\": \"histogram\", \"uid\": \"d6be48f6-8396-11e9-99b6-186024a0f792\"}], {\"barmode\": \"overlay\", \"legend\": {\"bgcolor\": \"#F5F6F9\", \"font\": {\"color\": \"#4D5663\"}}, \"paper_bgcolor\": \"#F5F6F9\", \"plot_bgcolor\": \"#F5F6F9\", \"title\": \"Sentiment Polarity Distribution\", \"titlefont\": {\"color\": \"#4D5663\"}, \"xaxis\": {\"gridcolor\": \"#E1E5ED\", \"linecolor\": \"black\", \"showgrid\": true, \"tickfont\": {\"color\": \"#4D5663\"}, \"title\": \"polarity\", \"titlefont\": {\"color\": \"#4D5663\"}, \"zerolinecolor\": \"#E1E5ED\"}, \"yaxis\": {\"gridcolor\": \"#E1E5ED\", \"linecolor\": \"black\", \"showgrid\": true, \"tickfont\": {\"color\": \"#4D5663\"}, \"title\": \"count\", \"titlefont\": {\"color\": \"#4D5663\"}, \"zerolinecolor\": \"#E1E5ED\"}}, {\"showLink\": true, \"linkText\": \"Export to plot.ly\"})});</script>"
      ],
      "text/vnd.plotly.v1+html": [
       "<div id=\"6f44daf5-65dd-4a28-b886-07ad7458f11a\" style=\"height: 525px; width: 100%;\" class=\"plotly-graph-div\"></div><script type=\"text/javascript\">require([\"plotly\"], function(Plotly) { window.PLOTLYENV=window.PLOTLYENV || {};window.PLOTLYENV.BASE_URL=\"https://plot.ly\";Plotly.newPlot(\"6f44daf5-65dd-4a28-b886-07ad7458f11a\", [{\"histfunc\": \"count\", \"histnorm\": \"\", \"marker\": {\"color\": \"rgba(255, 153, 51, 1.0)\", \"line\": {\"color\": \"#000000\", \"width\": 1.3}}, \"name\": \"polarity\", \"nbinsx\": 50, \"opacity\": 0.8, \"orientation\": \"v\", \"x\": [0.06538600288600288, 0.225, 0.02085043787629995, 0.11850000000000001, 0.07794612794612793, 0.060144927536231886, 0.14891304347826087, 0.0995341614906832, 0.275], \"type\": \"histogram\", \"uid\": \"d6be48f6-8396-11e9-99b6-186024a0f792\"}], {\"barmode\": \"overlay\", \"legend\": {\"bgcolor\": \"#F5F6F9\", \"font\": {\"color\": \"#4D5663\"}}, \"paper_bgcolor\": \"#F5F6F9\", \"plot_bgcolor\": \"#F5F6F9\", \"title\": \"Sentiment Polarity Distribution\", \"titlefont\": {\"color\": \"#4D5663\"}, \"xaxis\": {\"gridcolor\": \"#E1E5ED\", \"linecolor\": \"black\", \"showgrid\": true, \"tickfont\": {\"color\": \"#4D5663\"}, \"title\": \"polarity\", \"titlefont\": {\"color\": \"#4D5663\"}, \"zerolinecolor\": \"#E1E5ED\"}, \"yaxis\": {\"gridcolor\": \"#E1E5ED\", \"linecolor\": \"black\", \"showgrid\": true, \"tickfont\": {\"color\": \"#4D5663\"}, \"title\": \"count\", \"titlefont\": {\"color\": \"#4D5663\"}, \"zerolinecolor\": \"#E1E5ED\"}}, {\"showLink\": true, \"linkText\": \"Export to plot.ly\"})});</script>"
      ]
     },
     "metadata": {},
     "output_type": "display_data"
    }
   ],
   "source": [
    "df['polarity'].iplot(\n",
    "    kind='hist',\n",
    "    bins=50,\n",
    "    xTitle='polarity',\n",
    "    linecolor='black',\n",
    "    yTitle='count',\n",
    "    title='Sentiment Polarity Distribution')"
   ]
  },
  {
   "cell_type": "code",
   "execution_count": 43,
   "metadata": {},
   "outputs": [
    {
     "data": {
      "application/vnd.plotly.v1+json": {
       "data": [
        {
         "histfunc": "count",
         "histnorm": "",
         "marker": {
          "color": "rgba(255, 153, 51, 1.0)",
          "line": {
           "color": "#000000",
           "width": 1.3
          }
         },
         "name": "review_len",
         "nbinsx": 100,
         "opacity": 0.8,
         "orientation": "v",
         "type": "histogram",
         "uid": "24eae240-8397-11e9-aa3c-186024a0f792",
         "x": [
          596,
          569,
          4806,
          983,
          641,
          1159,
          1018,
          1907,
          593
         ]
        }
       ],
       "layout": {
        "barmode": "overlay",
        "legend": {
         "bgcolor": "#F5F6F9",
         "font": {
          "color": "#4D5663"
         }
        },
        "paper_bgcolor": "#F5F6F9",
        "plot_bgcolor": "#F5F6F9",
        "title": "Text Length Distribution",
        "titlefont": {
         "color": "#4D5663"
        },
        "xaxis": {
         "gridcolor": "#E1E5ED",
         "linecolor": "black",
         "showgrid": true,
         "tickfont": {
          "color": "#4D5663"
         },
         "title": "review length",
         "titlefont": {
          "color": "#4D5663"
         },
         "zerolinecolor": "#E1E5ED"
        },
        "yaxis": {
         "gridcolor": "#E1E5ED",
         "linecolor": "black",
         "showgrid": true,
         "tickfont": {
          "color": "#4D5663"
         },
         "title": "count",
         "titlefont": {
          "color": "#4D5663"
         },
         "zerolinecolor": "#E1E5ED"
        }
       }
      },
      "text/html": [
       "<div id=\"a303729a-ac26-4208-be72-ef9a14d23f3d\" style=\"height: 525px; width: 100%;\" class=\"plotly-graph-div\"></div><script type=\"text/javascript\">require([\"plotly\"], function(Plotly) { window.PLOTLYENV=window.PLOTLYENV || {};window.PLOTLYENV.BASE_URL=\"https://plot.ly\";Plotly.newPlot(\"a303729a-ac26-4208-be72-ef9a14d23f3d\", [{\"histfunc\": \"count\", \"histnorm\": \"\", \"marker\": {\"color\": \"rgba(255, 153, 51, 1.0)\", \"line\": {\"color\": \"#000000\", \"width\": 1.3}}, \"name\": \"review_len\", \"nbinsx\": 100, \"opacity\": 0.8, \"orientation\": \"v\", \"x\": [596, 569, 4806, 983, 641, 1159, 1018, 1907, 593], \"type\": \"histogram\", \"uid\": \"24eeb566-8397-11e9-b6ce-186024a0f792\"}], {\"barmode\": \"overlay\", \"legend\": {\"bgcolor\": \"#F5F6F9\", \"font\": {\"color\": \"#4D5663\"}}, \"paper_bgcolor\": \"#F5F6F9\", \"plot_bgcolor\": \"#F5F6F9\", \"title\": \"Text Length Distribution\", \"titlefont\": {\"color\": \"#4D5663\"}, \"xaxis\": {\"gridcolor\": \"#E1E5ED\", \"linecolor\": \"black\", \"showgrid\": true, \"tickfont\": {\"color\": \"#4D5663\"}, \"title\": \"review length\", \"titlefont\": {\"color\": \"#4D5663\"}, \"zerolinecolor\": \"#E1E5ED\"}, \"yaxis\": {\"gridcolor\": \"#E1E5ED\", \"linecolor\": \"black\", \"showgrid\": true, \"tickfont\": {\"color\": \"#4D5663\"}, \"title\": \"count\", \"titlefont\": {\"color\": \"#4D5663\"}, \"zerolinecolor\": \"#E1E5ED\"}}, {\"showLink\": true, \"linkText\": \"Export to plot.ly\"})});</script>"
      ],
      "text/vnd.plotly.v1+html": [
       "<div id=\"a303729a-ac26-4208-be72-ef9a14d23f3d\" style=\"height: 525px; width: 100%;\" class=\"plotly-graph-div\"></div><script type=\"text/javascript\">require([\"plotly\"], function(Plotly) { window.PLOTLYENV=window.PLOTLYENV || {};window.PLOTLYENV.BASE_URL=\"https://plot.ly\";Plotly.newPlot(\"a303729a-ac26-4208-be72-ef9a14d23f3d\", [{\"histfunc\": \"count\", \"histnorm\": \"\", \"marker\": {\"color\": \"rgba(255, 153, 51, 1.0)\", \"line\": {\"color\": \"#000000\", \"width\": 1.3}}, \"name\": \"review_len\", \"nbinsx\": 100, \"opacity\": 0.8, \"orientation\": \"v\", \"x\": [596, 569, 4806, 983, 641, 1159, 1018, 1907, 593], \"type\": \"histogram\", \"uid\": \"24eeb566-8397-11e9-b6ce-186024a0f792\"}], {\"barmode\": \"overlay\", \"legend\": {\"bgcolor\": \"#F5F6F9\", \"font\": {\"color\": \"#4D5663\"}}, \"paper_bgcolor\": \"#F5F6F9\", \"plot_bgcolor\": \"#F5F6F9\", \"title\": \"Text Length Distribution\", \"titlefont\": {\"color\": \"#4D5663\"}, \"xaxis\": {\"gridcolor\": \"#E1E5ED\", \"linecolor\": \"black\", \"showgrid\": true, \"tickfont\": {\"color\": \"#4D5663\"}, \"title\": \"review length\", \"titlefont\": {\"color\": \"#4D5663\"}, \"zerolinecolor\": \"#E1E5ED\"}, \"yaxis\": {\"gridcolor\": \"#E1E5ED\", \"linecolor\": \"black\", \"showgrid\": true, \"tickfont\": {\"color\": \"#4D5663\"}, \"title\": \"count\", \"titlefont\": {\"color\": \"#4D5663\"}, \"zerolinecolor\": \"#E1E5ED\"}}, {\"showLink\": true, \"linkText\": \"Export to plot.ly\"})});</script>"
      ]
     },
     "metadata": {},
     "output_type": "display_data"
    }
   ],
   "source": [
    "df['review_len'].iplot(\n",
    "    kind='hist',\n",
    "    bins=100,\n",
    "    xTitle='review length',\n",
    "    linecolor='black',\n",
    "    yTitle='count',\n",
    "    title='Text Length Distribution')"
   ]
  },
  {
   "cell_type": "code",
   "execution_count": 44,
   "metadata": {},
   "outputs": [
    {
     "data": {
      "application/vnd.plotly.v1+json": {
       "data": [
        {
         "histfunc": "count",
         "histnorm": "",
         "marker": {
          "color": "rgba(255, 153, 51, 1.0)",
          "line": {
           "color": "#000000",
           "width": 1.3
          }
         },
         "name": "word_count",
         "nbinsx": 100,
         "opacity": 0.8,
         "orientation": "v",
         "type": "histogram",
         "uid": "3dd2cb58-8397-11e9-b313-186024a0f792",
         "x": [
          91,
          94,
          724,
          145,
          109,
          180,
          139,
          257,
          89
         ]
        }
       ],
       "layout": {
        "barmode": "overlay",
        "legend": {
         "bgcolor": "#F5F6F9",
         "font": {
          "color": "#4D5663"
         }
        },
        "paper_bgcolor": "#F5F6F9",
        "plot_bgcolor": "#F5F6F9",
        "title": "Text Word Count Distribution",
        "titlefont": {
         "color": "#4D5663"
        },
        "xaxis": {
         "gridcolor": "#E1E5ED",
         "linecolor": "black",
         "showgrid": true,
         "tickfont": {
          "color": "#4D5663"
         },
         "title": "word count",
         "titlefont": {
          "color": "#4D5663"
         },
         "zerolinecolor": "#E1E5ED"
        },
        "yaxis": {
         "gridcolor": "#E1E5ED",
         "linecolor": "black",
         "showgrid": true,
         "tickfont": {
          "color": "#4D5663"
         },
         "title": "count",
         "titlefont": {
          "color": "#4D5663"
         },
         "zerolinecolor": "#E1E5ED"
        }
       }
      },
      "text/html": [
       "<div id=\"18f6b851-b431-4edc-8a55-301dc5dfdc24\" style=\"height: 525px; width: 100%;\" class=\"plotly-graph-div\"></div><script type=\"text/javascript\">require([\"plotly\"], function(Plotly) { window.PLOTLYENV=window.PLOTLYENV || {};window.PLOTLYENV.BASE_URL=\"https://plot.ly\";Plotly.newPlot(\"18f6b851-b431-4edc-8a55-301dc5dfdc24\", [{\"histfunc\": \"count\", \"histnorm\": \"\", \"marker\": {\"color\": \"rgba(255, 153, 51, 1.0)\", \"line\": {\"color\": \"#000000\", \"width\": 1.3}}, \"name\": \"word_count\", \"nbinsx\": 100, \"opacity\": 0.8, \"orientation\": \"v\", \"x\": [91, 94, 724, 145, 109, 180, 139, 257, 89], \"type\": \"histogram\", \"uid\": \"3dd69e86-8397-11e9-843a-186024a0f792\"}], {\"barmode\": \"overlay\", \"legend\": {\"bgcolor\": \"#F5F6F9\", \"font\": {\"color\": \"#4D5663\"}}, \"paper_bgcolor\": \"#F5F6F9\", \"plot_bgcolor\": \"#F5F6F9\", \"title\": \"Text Word Count Distribution\", \"titlefont\": {\"color\": \"#4D5663\"}, \"xaxis\": {\"gridcolor\": \"#E1E5ED\", \"linecolor\": \"black\", \"showgrid\": true, \"tickfont\": {\"color\": \"#4D5663\"}, \"title\": \"word count\", \"titlefont\": {\"color\": \"#4D5663\"}, \"zerolinecolor\": \"#E1E5ED\"}, \"yaxis\": {\"gridcolor\": \"#E1E5ED\", \"linecolor\": \"black\", \"showgrid\": true, \"tickfont\": {\"color\": \"#4D5663\"}, \"title\": \"count\", \"titlefont\": {\"color\": \"#4D5663\"}, \"zerolinecolor\": \"#E1E5ED\"}}, {\"showLink\": true, \"linkText\": \"Export to plot.ly\"})});</script>"
      ],
      "text/vnd.plotly.v1+html": [
       "<div id=\"18f6b851-b431-4edc-8a55-301dc5dfdc24\" style=\"height: 525px; width: 100%;\" class=\"plotly-graph-div\"></div><script type=\"text/javascript\">require([\"plotly\"], function(Plotly) { window.PLOTLYENV=window.PLOTLYENV || {};window.PLOTLYENV.BASE_URL=\"https://plot.ly\";Plotly.newPlot(\"18f6b851-b431-4edc-8a55-301dc5dfdc24\", [{\"histfunc\": \"count\", \"histnorm\": \"\", \"marker\": {\"color\": \"rgba(255, 153, 51, 1.0)\", \"line\": {\"color\": \"#000000\", \"width\": 1.3}}, \"name\": \"word_count\", \"nbinsx\": 100, \"opacity\": 0.8, \"orientation\": \"v\", \"x\": [91, 94, 724, 145, 109, 180, 139, 257, 89], \"type\": \"histogram\", \"uid\": \"3dd69e86-8397-11e9-843a-186024a0f792\"}], {\"barmode\": \"overlay\", \"legend\": {\"bgcolor\": \"#F5F6F9\", \"font\": {\"color\": \"#4D5663\"}}, \"paper_bgcolor\": \"#F5F6F9\", \"plot_bgcolor\": \"#F5F6F9\", \"title\": \"Text Word Count Distribution\", \"titlefont\": {\"color\": \"#4D5663\"}, \"xaxis\": {\"gridcolor\": \"#E1E5ED\", \"linecolor\": \"black\", \"showgrid\": true, \"tickfont\": {\"color\": \"#4D5663\"}, \"title\": \"word count\", \"titlefont\": {\"color\": \"#4D5663\"}, \"zerolinecolor\": \"#E1E5ED\"}, \"yaxis\": {\"gridcolor\": \"#E1E5ED\", \"linecolor\": \"black\", \"showgrid\": true, \"tickfont\": {\"color\": \"#4D5663\"}, \"title\": \"count\", \"titlefont\": {\"color\": \"#4D5663\"}, \"zerolinecolor\": \"#E1E5ED\"}}, {\"showLink\": true, \"linkText\": \"Export to plot.ly\"})});</script>"
      ]
     },
     "metadata": {},
     "output_type": "display_data"
    }
   ],
   "source": [
    "df['word_count'].iplot(\n",
    "    kind='hist',\n",
    "    bins=100,\n",
    "    xTitle='word count',\n",
    "    linecolor='black',\n",
    "    yTitle='count',\n",
    "    title='Text Word Count Distribution')"
   ]
  },
  {
   "cell_type": "code",
   "execution_count": 47,
   "metadata": {},
   "outputs": [],
   "source": [
    "from sklearn.feature_extraction.text import CountVectorizer"
   ]
  },
  {
   "cell_type": "code",
   "execution_count": 49,
   "metadata": {},
   "outputs": [
    {
     "name": "stdout",
     "output_type": "stream",
     "text": [
      "trading 40\n",
      "algorithmic 25\n",
      "liquidity 22\n",
      "market 19\n",
      "performance 14\n",
      "high 11\n",
      "frequency 11\n",
      "orders 10\n",
      "price 9\n",
      "execution 9\n",
      "based 9\n",
      "stocks 8\n",
      "trade 8\n",
      "volatility 8\n",
      "traders 8\n",
      "financial 8\n",
      "analysis 7\n",
      "percent 7\n",
      "technology 7\n",
      "trades 6\n"
     ]
    }
   ],
   "source": [
    "def get_top_n_words(corpus, n=None):\n",
    "    vec = CountVectorizer(stop_words = 'english').fit(corpus)\n",
    "    bag_of_words = vec.transform(corpus)\n",
    "    sum_words = bag_of_words.sum(axis=0) \n",
    "    words_freq = [(word, sum_words[0, idx]) for word, idx in vec.vocabulary_.items()]\n",
    "    words_freq =sorted(words_freq, key = lambda x: x[1], reverse=True)\n",
    "    return words_freq[:n]\n",
    "common_words = get_top_n_words(df['ABSTRACT'], 20)\n",
    "for word, freq in common_words:\n",
    "    print(word, freq)\n",
    "df2 = pd.DataFrame(common_words, columns = ['ABSTRACT' , 'count'])\n"
   ]
  },
  {
   "cell_type": "code",
   "execution_count": 51,
   "metadata": {},
   "outputs": [
    {
     "data": {
      "application/vnd.plotly.v1+json": {
       "data": [
        {
         "marker": {
          "color": "rgba(255, 153, 51, 0.6)",
          "line": {
           "color": "rgba(255, 153, 51, 1.0)",
           "width": 1
          }
         },
         "name": "count",
         "orientation": "v",
         "text": "",
         "type": "bar",
         "uid": "c3be91d2-8398-11e9-bc40-186024a0f792",
         "x": [
          "trading",
          "algorithmic",
          "liquidity",
          "market",
          "performance",
          "frequency",
          "high",
          "orders",
          "price",
          "execution",
          "based",
          "stocks",
          "trade",
          "traders",
          "financial",
          "volatility",
          "percent",
          "technology",
          "analysis",
          "trades"
         ],
         "y": [
          40,
          25,
          22,
          19,
          14,
          11,
          11,
          10,
          9,
          9,
          9,
          8,
          8,
          8,
          8,
          8,
          7,
          7,
          7,
          6
         ]
        }
       ],
       "layout": {
        "legend": {
         "bgcolor": "#F5F6F9",
         "font": {
          "color": "#4D5663"
         }
        },
        "paper_bgcolor": "#F5F6F9",
        "plot_bgcolor": "#F5F6F9",
        "title": "Top 20 words in Abstract",
        "titlefont": {
         "color": "#4D5663"
        },
        "xaxis": {
         "gridcolor": "#E1E5ED",
         "linecolor": "black",
         "showgrid": true,
         "tickfont": {
          "color": "#4D5663"
         },
         "title": "",
         "titlefont": {
          "color": "#4D5663"
         },
         "zerolinecolor": "#E1E5ED"
        },
        "yaxis": {
         "gridcolor": "#E1E5ED",
         "linecolor": "black",
         "showgrid": true,
         "tickfont": {
          "color": "#4D5663"
         },
         "title": "Count",
         "titlefont": {
          "color": "#4D5663"
         },
         "zerolinecolor": "#E1E5ED"
        }
       }
      },
      "text/html": [
       "<div id=\"da4f9d2f-2329-47f6-891b-9bc43c0485e0\" style=\"height: 525px; width: 100%;\" class=\"plotly-graph-div\"></div><script type=\"text/javascript\">require([\"plotly\"], function(Plotly) { window.PLOTLYENV=window.PLOTLYENV || {};window.PLOTLYENV.BASE_URL=\"https://plot.ly\";Plotly.newPlot(\"da4f9d2f-2329-47f6-891b-9bc43c0485e0\", [{\"marker\": {\"color\": \"rgba(255, 153, 51, 0.6)\", \"line\": {\"color\": \"rgba(255, 153, 51, 1.0)\", \"width\": 1}}, \"name\": \"count\", \"orientation\": \"v\", \"text\": \"\", \"x\": [\"trading\", \"algorithmic\", \"liquidity\", \"market\", \"performance\", \"frequency\", \"high\", \"orders\", \"price\", \"execution\", \"based\", \"stocks\", \"trade\", \"traders\", \"financial\", \"volatility\", \"percent\", \"technology\", \"analysis\", \"trades\"], \"y\": [40, 25, 22, 19, 14, 11, 11, 10, 9, 9, 9, 8, 8, 8, 8, 8, 7, 7, 7, 6], \"type\": \"bar\", \"uid\": \"c3c264fe-8398-11e9-bce5-186024a0f792\"}], {\"legend\": {\"bgcolor\": \"#F5F6F9\", \"font\": {\"color\": \"#4D5663\"}}, \"paper_bgcolor\": \"#F5F6F9\", \"plot_bgcolor\": \"#F5F6F9\", \"title\": \"Top 20 words in Abstract\", \"titlefont\": {\"color\": \"#4D5663\"}, \"xaxis\": {\"gridcolor\": \"#E1E5ED\", \"linecolor\": \"black\", \"showgrid\": true, \"tickfont\": {\"color\": \"#4D5663\"}, \"title\": \"\", \"titlefont\": {\"color\": \"#4D5663\"}, \"zerolinecolor\": \"#E1E5ED\"}, \"yaxis\": {\"gridcolor\": \"#E1E5ED\", \"linecolor\": \"black\", \"showgrid\": true, \"tickfont\": {\"color\": \"#4D5663\"}, \"title\": \"Count\", \"titlefont\": {\"color\": \"#4D5663\"}, \"zerolinecolor\": \"#E1E5ED\"}}, {\"showLink\": true, \"linkText\": \"Export to plot.ly\"})});</script>"
      ],
      "text/vnd.plotly.v1+html": [
       "<div id=\"da4f9d2f-2329-47f6-891b-9bc43c0485e0\" style=\"height: 525px; width: 100%;\" class=\"plotly-graph-div\"></div><script type=\"text/javascript\">require([\"plotly\"], function(Plotly) { window.PLOTLYENV=window.PLOTLYENV || {};window.PLOTLYENV.BASE_URL=\"https://plot.ly\";Plotly.newPlot(\"da4f9d2f-2329-47f6-891b-9bc43c0485e0\", [{\"marker\": {\"color\": \"rgba(255, 153, 51, 0.6)\", \"line\": {\"color\": \"rgba(255, 153, 51, 1.0)\", \"width\": 1}}, \"name\": \"count\", \"orientation\": \"v\", \"text\": \"\", \"x\": [\"trading\", \"algorithmic\", \"liquidity\", \"market\", \"performance\", \"frequency\", \"high\", \"orders\", \"price\", \"execution\", \"based\", \"stocks\", \"trade\", \"traders\", \"financial\", \"volatility\", \"percent\", \"technology\", \"analysis\", \"trades\"], \"y\": [40, 25, 22, 19, 14, 11, 11, 10, 9, 9, 9, 8, 8, 8, 8, 8, 7, 7, 7, 6], \"type\": \"bar\", \"uid\": \"c3c264fe-8398-11e9-bce5-186024a0f792\"}], {\"legend\": {\"bgcolor\": \"#F5F6F9\", \"font\": {\"color\": \"#4D5663\"}}, \"paper_bgcolor\": \"#F5F6F9\", \"plot_bgcolor\": \"#F5F6F9\", \"title\": \"Top 20 words in Abstract\", \"titlefont\": {\"color\": \"#4D5663\"}, \"xaxis\": {\"gridcolor\": \"#E1E5ED\", \"linecolor\": \"black\", \"showgrid\": true, \"tickfont\": {\"color\": \"#4D5663\"}, \"title\": \"\", \"titlefont\": {\"color\": \"#4D5663\"}, \"zerolinecolor\": \"#E1E5ED\"}, \"yaxis\": {\"gridcolor\": \"#E1E5ED\", \"linecolor\": \"black\", \"showgrid\": true, \"tickfont\": {\"color\": \"#4D5663\"}, \"title\": \"Count\", \"titlefont\": {\"color\": \"#4D5663\"}, \"zerolinecolor\": \"#E1E5ED\"}}, {\"showLink\": true, \"linkText\": \"Export to plot.ly\"})});</script>"
      ]
     },
     "metadata": {},
     "output_type": "display_data"
    }
   ],
   "source": [
    "df2.groupby('ABSTRACT').sum()['count'].sort_values(ascending=False).iplot(\n",
    "    kind='bar', yTitle='Count', linecolor='black', title='Top 20 words in Abstract')"
   ]
  },
  {
   "cell_type": "code",
   "execution_count": 52,
   "metadata": {},
   "outputs": [
    {
     "name": "stdout",
     "output_type": "stream",
     "text": [
      "high frequency trading 5\n",
      "high frequency traders 3\n",
      "stocks deutsche boerse 2\n",
      "consume liquidity cheap 2\n",
      "supply liquidity expensive 2\n",
      "performance algorithmic trading 2\n",
      "model based trading 2\n",
      "algorithmic trading strategies 2\n",
      "algorithmic trading increased 1\n",
      "trading increased sharply 1\n",
      "increased sharply past 1\n",
      "sharply past decade 1\n",
      "past decade does 1\n",
      "decade does improve 1\n",
      "does improve market 1\n",
      "improve market quality 1\n",
      "market quality encouraged 1\n",
      "quality encouraged provide 1\n",
      "encouraged provide analysis 1\n",
      "provide analysis question 1\n"
     ]
    }
   ],
   "source": [
    "def get_top_n_trigram(corpus, n=None):\n",
    "    vec = CountVectorizer(ngram_range=(3, 3), stop_words='english').fit(corpus)\n",
    "    bag_of_words = vec.transform(corpus)\n",
    "    sum_words = bag_of_words.sum(axis=0) \n",
    "    words_freq = [(word, sum_words[0, idx]) for word, idx in vec.vocabulary_.items()]\n",
    "    words_freq =sorted(words_freq, key = lambda x: x[1], reverse=True)\n",
    "    return words_freq[:n]\n",
    "common_words = get_top_n_trigram(df['ABSTRACT'], 20)\n",
    "for word, freq in common_words:\n",
    "    print(word, freq)\n",
    "df6 = pd.DataFrame(common_words, columns = ['ABSTRACT' , 'count'])\n"
   ]
  },
  {
   "cell_type": "code",
   "execution_count": 54,
   "metadata": {},
   "outputs": [
    {
     "data": {
      "text/plain": [
       "\"df6.groupby('ABSTRACT').sum()['count'].sort_values(ascending=False).iplot(\\n    kind='bar', yTitle='Count', linecolor='black', title='Top 20 trigrams in ABSTRACT')\""
      ]
     },
     "execution_count": 54,
     "metadata": {},
     "output_type": "execute_result"
    }
   ],
   "source": [
    "'''df6.groupby('ABSTRACT').sum()['count'].sort_values(ascending=False).iplot(\n",
    "    kind='bar', yTitle='Count', linecolor='black', title='Top 20 trigrams in ABSTRACT')'''"
   ]
  },
  {
   "cell_type": "code",
   "execution_count": 66,
   "metadata": {},
   "outputs": [
    {
     "data": {
      "application/vnd.plotly.v1+json": {
       "data": [
        {
         "marker": {
          "color": "rgba(255, 153, 51, 0.6)",
          "line": {
           "color": "rgba(255, 153, 51, 1.0)",
           "width": 1
          }
         },
         "name": "pos",
         "orientation": "v",
         "text": "",
         "type": "bar",
         "uid": "72be5e28-839b-11e9-9ab3-186024a0f792",
         "x": [
          "NN",
          "CD",
          "JJ",
          "IN",
          "DT"
         ],
         "y": [
          17,
          11,
          11,
          8,
          6
         ]
        }
       ],
       "layout": {
        "legend": {
         "bgcolor": "#F5F6F9",
         "font": {
          "color": "#4D5663"
         }
        },
        "paper_bgcolor": "#F5F6F9",
        "plot_bgcolor": "#F5F6F9",
        "title": "Top 20 Part-of-speech tagging for review corpus",
        "titlefont": {
         "color": "#4D5663"
        },
        "xaxis": {
         "gridcolor": "#E1E5ED",
         "showgrid": true,
         "tickfont": {
          "color": "#4D5663"
         },
         "title": "POS",
         "titlefont": {
          "color": "#4D5663"
         },
         "zerolinecolor": "#E1E5ED"
        },
        "yaxis": {
         "gridcolor": "#E1E5ED",
         "showgrid": true,
         "tickfont": {
          "color": "#4D5663"
         },
         "title": "count",
         "titlefont": {
          "color": "#4D5663"
         },
         "zerolinecolor": "#E1E5ED"
        }
       }
      },
      "text/html": [
       "<div id=\"0b205d7f-49e5-4034-9b74-a32c85908527\" style=\"height: 525px; width: 100%;\" class=\"plotly-graph-div\"></div><script type=\"text/javascript\">require([\"plotly\"], function(Plotly) { window.PLOTLYENV=window.PLOTLYENV || {};window.PLOTLYENV.BASE_URL=\"https://plot.ly\";Plotly.newPlot(\"0b205d7f-49e5-4034-9b74-a32c85908527\", [{\"marker\": {\"color\": \"rgba(255, 153, 51, 0.6)\", \"line\": {\"color\": \"rgba(255, 153, 51, 1.0)\", \"width\": 1}}, \"name\": \"pos\", \"orientation\": \"v\", \"text\": \"\", \"x\": [\"NN\", \"CD\", \"JJ\", \"IN\", \"DT\"], \"y\": [17, 11, 11, 8, 6], \"type\": \"bar\", \"uid\": \"72c1e2fe-839b-11e9-8e4f-186024a0f792\"}], {\"legend\": {\"bgcolor\": \"#F5F6F9\", \"font\": {\"color\": \"#4D5663\"}}, \"paper_bgcolor\": \"#F5F6F9\", \"plot_bgcolor\": \"#F5F6F9\", \"title\": \"Top 20 Part-of-speech tagging for review corpus\", \"titlefont\": {\"color\": \"#4D5663\"}, \"xaxis\": {\"gridcolor\": \"#E1E5ED\", \"showgrid\": true, \"tickfont\": {\"color\": \"#4D5663\"}, \"title\": \"POS\", \"titlefont\": {\"color\": \"#4D5663\"}, \"zerolinecolor\": \"#E1E5ED\"}, \"yaxis\": {\"gridcolor\": \"#E1E5ED\", \"showgrid\": true, \"tickfont\": {\"color\": \"#4D5663\"}, \"title\": \"count\", \"titlefont\": {\"color\": \"#4D5663\"}, \"zerolinecolor\": \"#E1E5ED\"}}, {\"showLink\": true, \"linkText\": \"Export to plot.ly\"})});</script>"
      ],
      "text/vnd.plotly.v1+html": [
       "<div id=\"0b205d7f-49e5-4034-9b74-a32c85908527\" style=\"height: 525px; width: 100%;\" class=\"plotly-graph-div\"></div><script type=\"text/javascript\">require([\"plotly\"], function(Plotly) { window.PLOTLYENV=window.PLOTLYENV || {};window.PLOTLYENV.BASE_URL=\"https://plot.ly\";Plotly.newPlot(\"0b205d7f-49e5-4034-9b74-a32c85908527\", [{\"marker\": {\"color\": \"rgba(255, 153, 51, 0.6)\", \"line\": {\"color\": \"rgba(255, 153, 51, 1.0)\", \"width\": 1}}, \"name\": \"pos\", \"orientation\": \"v\", \"text\": \"\", \"x\": [\"NN\", \"CD\", \"JJ\", \"IN\", \"DT\"], \"y\": [17, 11, 11, 8, 6], \"type\": \"bar\", \"uid\": \"72c1e2fe-839b-11e9-8e4f-186024a0f792\"}], {\"legend\": {\"bgcolor\": \"#F5F6F9\", \"font\": {\"color\": \"#4D5663\"}}, \"paper_bgcolor\": \"#F5F6F9\", \"plot_bgcolor\": \"#F5F6F9\", \"title\": \"Top 20 Part-of-speech tagging for review corpus\", \"titlefont\": {\"color\": \"#4D5663\"}, \"xaxis\": {\"gridcolor\": \"#E1E5ED\", \"showgrid\": true, \"tickfont\": {\"color\": \"#4D5663\"}, \"title\": \"POS\", \"titlefont\": {\"color\": \"#4D5663\"}, \"zerolinecolor\": \"#E1E5ED\"}, \"yaxis\": {\"gridcolor\": \"#E1E5ED\", \"showgrid\": true, \"tickfont\": {\"color\": \"#4D5663\"}, \"title\": \"count\", \"titlefont\": {\"color\": \"#4D5663\"}, \"zerolinecolor\": \"#E1E5ED\"}}, {\"showLink\": true, \"linkText\": \"Export to plot.ly\"})});</script>"
      ]
     },
     "metadata": {},
     "output_type": "display_data"
    }
   ],
   "source": [
    "blob = TextBlob(str(df['ABSTRACT']))\n",
    "pos_df = pd.DataFrame(blob.tags, columns = ['word' , 'pos'])\n",
    "pos_df = pos_df.pos.value_counts()[:5]\n",
    "pos_df.iplot(\n",
    "    kind='bar',\n",
    "    xTitle='POS',\n",
    "    yTitle='count', \n",
    "    title='Top 20 Part-of-speech tagging for review corpus')"
   ]
  },
  {
   "cell_type": "code",
   "execution_count": 67,
   "metadata": {},
   "outputs": [],
   "source": [
    "blob = TextBlob(str(df['ABSTRACT']))\n",
    "pos_df = pd.DataFrame(blob.tags, columns = ['word' , 'pos'])"
   ]
  },
  {
   "cell_type": "code",
   "execution_count": 76,
   "metadata": {},
   "outputs": [
    {
     "data": {
      "text/html": [
       "<div>\n",
       "<style scoped>\n",
       "    .dataframe tbody tr th:only-of-type {\n",
       "        vertical-align: middle;\n",
       "    }\n",
       "\n",
       "    .dataframe tbody tr th {\n",
       "        vertical-align: top;\n",
       "    }\n",
       "\n",
       "    .dataframe thead th {\n",
       "        text-align: right;\n",
       "    }\n",
       "</style>\n",
       "<table border=\"1\" class=\"dataframe\">\n",
       "  <thead>\n",
       "    <tr style=\"text-align: right;\">\n",
       "      <th></th>\n",
       "      <th>word</th>\n",
       "      <th>pos</th>\n",
       "    </tr>\n",
       "  </thead>\n",
       "  <tbody>\n",
       "    <tr>\n",
       "      <th>1</th>\n",
       "      <td>Algorithmic</td>\n",
       "      <td>JJ</td>\n",
       "    </tr>\n",
       "    <tr>\n",
       "      <th>10</th>\n",
       "      <td>algorithmic</td>\n",
       "      <td>JJ</td>\n",
       "    </tr>\n",
       "    <tr>\n",
       "      <th>20</th>\n",
       "      <td>advanced</td>\n",
       "      <td>JJ</td>\n",
       "    </tr>\n",
       "    <tr>\n",
       "      <th>30</th>\n",
       "      <td>algorithmic</td>\n",
       "      <td>JJ</td>\n",
       "    </tr>\n",
       "    <tr>\n",
       "      <th>39</th>\n",
       "      <td>algorithmic</td>\n",
       "      <td>JJ</td>\n",
       "    </tr>\n",
       "    <tr>\n",
       "      <th>46</th>\n",
       "      <td>large</td>\n",
       "      <td>JJ</td>\n",
       "    </tr>\n",
       "    <tr>\n",
       "      <th>60</th>\n",
       "      <td>remarkable</td>\n",
       "      <td>JJ</td>\n",
       "    </tr>\n",
       "    <tr>\n",
       "      <th>64</th>\n",
       "      <td>past</td>\n",
       "      <td>JJ</td>\n",
       "    </tr>\n",
       "    <tr>\n",
       "      <th>71</th>\n",
       "      <td>electronic</td>\n",
       "      <td>JJ</td>\n",
       "    </tr>\n",
       "    <tr>\n",
       "      <th>72</th>\n",
       "      <td>financial</td>\n",
       "      <td>JJ</td>\n",
       "    </tr>\n",
       "    <tr>\n",
       "      <th>74</th>\n",
       "      <td>algorithmic</td>\n",
       "      <td>JJ</td>\n",
       "    </tr>\n",
       "  </tbody>\n",
       "</table>\n",
       "</div>"
      ],
      "text/plain": [
       "           word pos\n",
       "1   Algorithmic  JJ\n",
       "10  algorithmic  JJ\n",
       "20     advanced  JJ\n",
       "30  algorithmic  JJ\n",
       "39  algorithmic  JJ\n",
       "46        large  JJ\n",
       "60   remarkable  JJ\n",
       "64         past  JJ\n",
       "71   electronic  JJ\n",
       "72    financial  JJ\n",
       "74  algorithmic  JJ"
      ]
     },
     "execution_count": 76,
     "metadata": {},
     "output_type": "execute_result"
    }
   ],
   "source": [
    "JJ_df = pos_df[pos_df['pos'] == 'JJ']\n",
    "JJ_df"
   ]
  },
  {
   "cell_type": "code",
   "execution_count": 77,
   "metadata": {},
   "outputs": [
    {
     "data": {
      "application/vnd.plotly.v1+json": {
       "data": [
        {
         "marker": {
          "color": "rgba(255, 153, 51, 0.6)",
          "line": {
           "color": "rgba(255, 153, 51, 1.0)",
           "width": 1
          }
         },
         "name": "word",
         "orientation": "v",
         "text": "",
         "type": "bar",
         "uid": "f31a6a2c-839b-11e9-86bf-186024a0f792",
         "x": [
          "algorithmic",
          "remarkable",
          "large",
          "advanced",
          "financial"
         ],
         "y": [
          4,
          1,
          1,
          1,
          1
         ]
        }
       ],
       "layout": {
        "legend": {
         "bgcolor": "#F5F6F9",
         "font": {
          "color": "#4D5663"
         }
        },
        "paper_bgcolor": "#F5F6F9",
        "plot_bgcolor": "#F5F6F9",
        "title": "Top 5 Adjective tagging for research corpus",
        "titlefont": {
         "color": "#4D5663"
        },
        "xaxis": {
         "gridcolor": "#E1E5ED",
         "showgrid": true,
         "tickfont": {
          "color": "#4D5663"
         },
         "title": "Adjectives",
         "titlefont": {
          "color": "#4D5663"
         },
         "zerolinecolor": "#E1E5ED"
        },
        "yaxis": {
         "gridcolor": "#E1E5ED",
         "showgrid": true,
         "tickfont": {
          "color": "#4D5663"
         },
         "title": "count",
         "titlefont": {
          "color": "#4D5663"
         },
         "zerolinecolor": "#E1E5ED"
        }
       }
      },
      "text/html": [
       "<div id=\"e0ceb239-aa7e-4bd6-9be8-f8df510861fc\" style=\"height: 525px; width: 100%;\" class=\"plotly-graph-div\"></div><script type=\"text/javascript\">require([\"plotly\"], function(Plotly) { window.PLOTLYENV=window.PLOTLYENV || {};window.PLOTLYENV.BASE_URL=\"https://plot.ly\";Plotly.newPlot(\"e0ceb239-aa7e-4bd6-9be8-f8df510861fc\", [{\"marker\": {\"color\": \"rgba(255, 153, 51, 0.6)\", \"line\": {\"color\": \"rgba(255, 153, 51, 1.0)\", \"width\": 1}}, \"name\": \"word\", \"orientation\": \"v\", \"text\": \"\", \"x\": [\"algorithmic\", \"remarkable\", \"large\", \"advanced\", \"financial\"], \"y\": [4, 1, 1, 1, 1], \"type\": \"bar\", \"uid\": \"f31e3d4c-839b-11e9-b239-186024a0f792\"}], {\"legend\": {\"bgcolor\": \"#F5F6F9\", \"font\": {\"color\": \"#4D5663\"}}, \"paper_bgcolor\": \"#F5F6F9\", \"plot_bgcolor\": \"#F5F6F9\", \"title\": \"Top 5 Adjective tagging for research corpus\", \"titlefont\": {\"color\": \"#4D5663\"}, \"xaxis\": {\"gridcolor\": \"#E1E5ED\", \"showgrid\": true, \"tickfont\": {\"color\": \"#4D5663\"}, \"title\": \"Adjectives\", \"titlefont\": {\"color\": \"#4D5663\"}, \"zerolinecolor\": \"#E1E5ED\"}, \"yaxis\": {\"gridcolor\": \"#E1E5ED\", \"showgrid\": true, \"tickfont\": {\"color\": \"#4D5663\"}, \"title\": \"count\", \"titlefont\": {\"color\": \"#4D5663\"}, \"zerolinecolor\": \"#E1E5ED\"}}, {\"showLink\": true, \"linkText\": \"Export to plot.ly\"})});</script>"
      ],
      "text/vnd.plotly.v1+html": [
       "<div id=\"e0ceb239-aa7e-4bd6-9be8-f8df510861fc\" style=\"height: 525px; width: 100%;\" class=\"plotly-graph-div\"></div><script type=\"text/javascript\">require([\"plotly\"], function(Plotly) { window.PLOTLYENV=window.PLOTLYENV || {};window.PLOTLYENV.BASE_URL=\"https://plot.ly\";Plotly.newPlot(\"e0ceb239-aa7e-4bd6-9be8-f8df510861fc\", [{\"marker\": {\"color\": \"rgba(255, 153, 51, 0.6)\", \"line\": {\"color\": \"rgba(255, 153, 51, 1.0)\", \"width\": 1}}, \"name\": \"word\", \"orientation\": \"v\", \"text\": \"\", \"x\": [\"algorithmic\", \"remarkable\", \"large\", \"advanced\", \"financial\"], \"y\": [4, 1, 1, 1, 1], \"type\": \"bar\", \"uid\": \"f31e3d4c-839b-11e9-b239-186024a0f792\"}], {\"legend\": {\"bgcolor\": \"#F5F6F9\", \"font\": {\"color\": \"#4D5663\"}}, \"paper_bgcolor\": \"#F5F6F9\", \"plot_bgcolor\": \"#F5F6F9\", \"title\": \"Top 5 Adjective tagging for research corpus\", \"titlefont\": {\"color\": \"#4D5663\"}, \"xaxis\": {\"gridcolor\": \"#E1E5ED\", \"showgrid\": true, \"tickfont\": {\"color\": \"#4D5663\"}, \"title\": \"Adjectives\", \"titlefont\": {\"color\": \"#4D5663\"}, \"zerolinecolor\": \"#E1E5ED\"}, \"yaxis\": {\"gridcolor\": \"#E1E5ED\", \"showgrid\": true, \"tickfont\": {\"color\": \"#4D5663\"}, \"title\": \"count\", \"titlefont\": {\"color\": \"#4D5663\"}, \"zerolinecolor\": \"#E1E5ED\"}}, {\"showLink\": true, \"linkText\": \"Export to plot.ly\"})});</script>"
      ]
     },
     "metadata": {},
     "output_type": "display_data"
    }
   ],
   "source": [
    "JJ_df = JJ_df.word.value_counts()[:5]\n",
    "JJ_df.iplot(\n",
    "    kind='bar',\n",
    "    xTitle='Adjectives',\n",
    "    yTitle='count', \n",
    "    title='Top 5 Adjective tagging for research corpus')"
   ]
  },
  {
   "cell_type": "code",
   "execution_count": 79,
   "metadata": {},
   "outputs": [],
   "source": [
    "import plotly.graph_objs as go"
   ]
  },
  {
   "cell_type": "code",
   "execution_count": 88,
   "metadata": {},
   "outputs": [],
   "source": [
    "x1 = df.loc[df['Citation_GS'] >= 200, 'polarity']\n",
    "x0 = df.loc[df['Citation_GS'] < 200, 'polarity']\n",
    "\n",
    "trace1 = go.Histogram(\n",
    "    x=x0, name='Low',\n",
    "    opacity=0.75\n",
    ")\n",
    "trace2 = go.Histogram(\n",
    "    x=x1, name = 'High',\n",
    "    opacity=0.75\n",
    ")\n",
    "\n",
    "data = [trace1, trace2]\n",
    "layout = go.Layout(barmode='overlay', title='Distribution of Sentiment polarity of ABSTRACT based on Citation')\n",
    "fig = go.Figure(data=data, layout=layout)\n",
    "\n"
   ]
  },
  {
   "cell_type": "code",
   "execution_count": 83,
   "metadata": {},
   "outputs": [],
   "source": [
    "from plotly.offline import iplot"
   ]
  },
  {
   "cell_type": "code",
   "execution_count": 89,
   "metadata": {},
   "outputs": [
    {
     "data": {
      "application/vnd.plotly.v1+json": {
       "data": [
        {
         "name": "Low",
         "opacity": 0.75,
         "type": "histogram",
         "uid": "fc9c5562-839c-11e9-8c67-186024a0f792",
         "x": [
          0.02085043787629995,
          0.14891304347826087,
          0.0995341614906832,
          0.275
         ]
        },
        {
         "name": "High",
         "opacity": 0.75,
         "type": "histogram",
         "uid": "fc9c5563-839c-11e9-9b81-186024a0f792",
         "x": [
          0.06538600288600288,
          0.225,
          0.11850000000000001,
          0.07794612794612793,
          0.060144927536231886
         ]
        }
       ],
       "layout": {
        "barmode": "overlay",
        "title": "Distribution of Sentiment polarity of ABSTRACT based on Citation"
       }
      },
      "text/html": [
       "<div id=\"74ea72f9-f328-4ad8-82b2-381d0b151b6c\" style=\"height: 525px; width: 100%;\" class=\"plotly-graph-div\"></div><script type=\"text/javascript\">require([\"plotly\"], function(Plotly) { window.PLOTLYENV=window.PLOTLYENV || {};window.PLOTLYENV.BASE_URL=\"https://plot.ly\";Plotly.newPlot(\"74ea72f9-f328-4ad8-82b2-381d0b151b6c\", [{\"name\": \"Low\", \"opacity\": 0.75, \"x\": [0.02085043787629995, 0.14891304347826087, 0.0995341614906832, 0.275], \"type\": \"histogram\", \"uid\": \"fc9c5562-839c-11e9-8c67-186024a0f792\"}, {\"name\": \"High\", \"opacity\": 0.75, \"x\": [0.06538600288600288, 0.225, 0.11850000000000001, 0.07794612794612793, 0.060144927536231886], \"type\": \"histogram\", \"uid\": \"fc9c5563-839c-11e9-9b81-186024a0f792\"}], {\"barmode\": \"overlay\", \"title\": \"Distribution of Sentiment polarity of ABSTRACT based on Citation\"}, {\"showLink\": true, \"linkText\": \"Export to plot.ly\"})});</script>"
      ],
      "text/vnd.plotly.v1+html": [
       "<div id=\"74ea72f9-f328-4ad8-82b2-381d0b151b6c\" style=\"height: 525px; width: 100%;\" class=\"plotly-graph-div\"></div><script type=\"text/javascript\">require([\"plotly\"], function(Plotly) { window.PLOTLYENV=window.PLOTLYENV || {};window.PLOTLYENV.BASE_URL=\"https://plot.ly\";Plotly.newPlot(\"74ea72f9-f328-4ad8-82b2-381d0b151b6c\", [{\"name\": \"Low\", \"opacity\": 0.75, \"x\": [0.02085043787629995, 0.14891304347826087, 0.0995341614906832, 0.275], \"type\": \"histogram\", \"uid\": \"fc9c5562-839c-11e9-8c67-186024a0f792\"}, {\"name\": \"High\", \"opacity\": 0.75, \"x\": [0.06538600288600288, 0.225, 0.11850000000000001, 0.07794612794612793, 0.060144927536231886], \"type\": \"histogram\", \"uid\": \"fc9c5563-839c-11e9-9b81-186024a0f792\"}], {\"barmode\": \"overlay\", \"title\": \"Distribution of Sentiment polarity of ABSTRACT based on Citation\"}, {\"showLink\": true, \"linkText\": \"Export to plot.ly\"})});</script>"
      ]
     },
     "metadata": {},
     "output_type": "display_data"
    }
   ],
   "source": [
    "iplot(fig, filename='overlaid histogram')"
   ]
  }
 ],
 "metadata": {
  "kernelspec": {
   "display_name": "Python 3",
   "language": "python",
   "name": "python3"
  },
  "language_info": {
   "codemirror_mode": {
    "name": "ipython",
    "version": 3
   },
   "file_extension": ".py",
   "mimetype": "text/x-python",
   "name": "python",
   "nbconvert_exporter": "python",
   "pygments_lexer": "ipython3",
   "version": "3.6.6"
  }
 },
 "nbformat": 4,
 "nbformat_minor": 2
}
